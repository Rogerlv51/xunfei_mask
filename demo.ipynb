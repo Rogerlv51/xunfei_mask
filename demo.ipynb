{
 "cells": [
  {
   "cell_type": "code",
   "execution_count": 12,
   "metadata": {},
   "outputs": [
    {
     "name": "stdout",
     "output_type": "stream",
     "text": [
      "torch.Size([2878, 1])\n",
      "torch.Size([2979, 1])\n",
      "torch.Size([3493, 1])\n"
     ]
    }
   ],
   "source": [
    "import torch\n",
    "import torch.nn\n",
    "import torchvision.transforms as transforms\n",
    "from PIL import Image\n",
    "import os\n",
    "\n",
    "label = [\"mask_weared_incorrect\", \"with_mask\", \"without_mask\"]  # 0,1,2\n",
    "train_path = \"./datasets/train\"\n",
    "mask_weared_incorrect_path = \"/mask_weared_incorrect\"\n",
    "with_mask_path = \"/with_mask\"\n",
    "without_mask_path = \"/without_mask\"\n",
    "incorrect_path = os.listdir(os.path.join(train_path+mask_weared_incorrect_path))\n",
    "correct_path = os.listdir(os.path.join(train_path+with_mask_path))\n",
    "nomask_path = os.listdir(os.path.join(train_path+without_mask_path))\n",
    "mask_incorrect_name = []\n",
    "with_mask_name = []\n",
    "without_mask_name = []\n",
    "for i, item in enumerate(incorrect_path):\n",
    "    mask_incorrect_name.append(item.split('.')[0])\n",
    "\n",
    "for i in correct_path:\n",
    "    with_mask_name.append(i.split('.')[0])\n",
    "\n",
    "for i in nomask_path:\n",
    "    without_mask_name.append(i.split('.')[0])\n",
    "\n",
    "label_0 = torch.zeros(len(mask_incorrect_name),1)\n",
    "label_1 = torch.ones(len(with_mask_name),1)\n",
    "label_2 = torch.ones(len(without_mask_name),1) * 2\n",
    "print(label_0.shape)\n",
    "print(label_1.shape)\n",
    "print(label_2.shape)"
   ]
  }
 ],
 "metadata": {
  "kernelspec": {
   "display_name": "Python 3.8.5 ('pytorch_gpu')",
   "language": "python",
   "name": "python3"
  },
  "language_info": {
   "codemirror_mode": {
    "name": "ipython",
    "version": 3
   },
   "file_extension": ".py",
   "mimetype": "text/x-python",
   "name": "python",
   "nbconvert_exporter": "python",
   "pygments_lexer": "ipython3",
   "version": "3.8.5"
  },
  "orig_nbformat": 4,
  "vscode": {
   "interpreter": {
    "hash": "2679cf41411127fad6b4c826b494c1155011be46cd2606cdd62e601481ef25df"
   }
  }
 },
 "nbformat": 4,
 "nbformat_minor": 2
}
